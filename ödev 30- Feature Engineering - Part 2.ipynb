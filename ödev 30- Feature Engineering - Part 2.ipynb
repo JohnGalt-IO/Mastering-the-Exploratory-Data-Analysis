{
 "cells": [
  {
   "cell_type": "code",
   "execution_count": 36,
   "metadata": {},
   "outputs": [],
   "source": [
    "import pandas as pd\n",
    "import numpy as np\n",
    "import matplotlib.pyplot as plt\n",
    "import seaborn as sns\n",
    "from scipy import stats\n",
    "from sklearn.decomposition import PCA\n",
    "from sklearn.preprocessing import StandardScaler"
   ]
  },
  {
   "cell_type": "code",
   "execution_count": 10,
   "metadata": {},
   "outputs": [],
   "source": [
    "df = pd.read_csv(\"states_all.csv\")"
   ]
  },
  {
   "cell_type": "code",
   "execution_count": 15,
   "metadata": {},
   "outputs": [],
   "source": [
    " for i in np.arange(3,len(df.columns)):\n",
    "    df[df.columns[i]].interpolate(method ='linear', limit_direction ='forward',inplace = True)"
   ]
  },
  {
   "cell_type": "code",
   "execution_count": 16,
   "metadata": {},
   "outputs": [],
   "source": [
    "for i in np.arange(3,len(df.columns)):\n",
    "    df[df.columns[i]] = df[df.columns[i]].fillna(df.groupby('YEAR')[df.columns[i]].transform(lambda x: x.fillna(x.mean())))"
   ]
  },
  {
   "cell_type": "code",
   "execution_count": 17,
   "metadata": {},
   "outputs": [
    {
     "data": {
      "text/html": [
       "<div>\n",
       "<style scoped>\n",
       "    .dataframe tbody tr th:only-of-type {\n",
       "        vertical-align: middle;\n",
       "    }\n",
       "\n",
       "    .dataframe tbody tr th {\n",
       "        vertical-align: top;\n",
       "    }\n",
       "\n",
       "    .dataframe thead th {\n",
       "        text-align: right;\n",
       "    }\n",
       "</style>\n",
       "<table border=\"1\" class=\"dataframe\">\n",
       "  <thead>\n",
       "    <tr style=\"text-align: right;\">\n",
       "      <th></th>\n",
       "      <th>PRIMARY_KEY</th>\n",
       "      <th>STATE</th>\n",
       "      <th>YEAR</th>\n",
       "      <th>ENROLL</th>\n",
       "      <th>TOTAL_REVENUE</th>\n",
       "      <th>FEDERAL_REVENUE</th>\n",
       "      <th>STATE_REVENUE</th>\n",
       "      <th>LOCAL_REVENUE</th>\n",
       "      <th>TOTAL_EXPENDITURE</th>\n",
       "      <th>INSTRUCTION_EXPENDITURE</th>\n",
       "      <th>...</th>\n",
       "      <th>GRADES_4_G</th>\n",
       "      <th>GRADES_8_G</th>\n",
       "      <th>GRADES_12_G</th>\n",
       "      <th>GRADES_1_8_G</th>\n",
       "      <th>GRADES_9_12_G</th>\n",
       "      <th>GRADES_ALL_G</th>\n",
       "      <th>AVG_MATH_4_SCORE</th>\n",
       "      <th>AVG_MATH_8_SCORE</th>\n",
       "      <th>AVG_READING_4_SCORE</th>\n",
       "      <th>AVG_READING_8_SCORE</th>\n",
       "    </tr>\n",
       "  </thead>\n",
       "  <tbody>\n",
       "    <tr>\n",
       "      <th>0</th>\n",
       "      <td>1992_ALABAMA</td>\n",
       "      <td>ALABAMA</td>\n",
       "      <td>1992</td>\n",
       "      <td>798454.929179</td>\n",
       "      <td>2678885.0</td>\n",
       "      <td>304177.0</td>\n",
       "      <td>1659028.0</td>\n",
       "      <td>715680.0</td>\n",
       "      <td>2653798.0</td>\n",
       "      <td>1481703.0</td>\n",
       "      <td>...</td>\n",
       "      <td>57948.0</td>\n",
       "      <td>58025.0</td>\n",
       "      <td>41167.0</td>\n",
       "      <td>555625.588825</td>\n",
       "      <td>115705.842048</td>\n",
       "      <td>731634.0</td>\n",
       "      <td>208.000000</td>\n",
       "      <td>252.000000</td>\n",
       "      <td>207.000000</td>\n",
       "      <td>260.0</td>\n",
       "    </tr>\n",
       "    <tr>\n",
       "      <th>1</th>\n",
       "      <td>1992_ALASKA</td>\n",
       "      <td>ALASKA</td>\n",
       "      <td>1992</td>\n",
       "      <td>798454.929179</td>\n",
       "      <td>1049591.0</td>\n",
       "      <td>106780.0</td>\n",
       "      <td>720711.0</td>\n",
       "      <td>222100.0</td>\n",
       "      <td>972488.0</td>\n",
       "      <td>498362.0</td>\n",
       "      <td>...</td>\n",
       "      <td>9748.0</td>\n",
       "      <td>8789.0</td>\n",
       "      <td>6714.0</td>\n",
       "      <td>555625.588825</td>\n",
       "      <td>115705.842048</td>\n",
       "      <td>122487.0</td>\n",
       "      <td>218.418605</td>\n",
       "      <td>266.325581</td>\n",
       "      <td>215.372093</td>\n",
       "      <td>260.0</td>\n",
       "    </tr>\n",
       "    <tr>\n",
       "      <th>2</th>\n",
       "      <td>1992_ARIZONA</td>\n",
       "      <td>ARIZONA</td>\n",
       "      <td>1992</td>\n",
       "      <td>798454.929179</td>\n",
       "      <td>3258079.0</td>\n",
       "      <td>297888.0</td>\n",
       "      <td>1369815.0</td>\n",
       "      <td>1590376.0</td>\n",
       "      <td>3401580.0</td>\n",
       "      <td>1435908.0</td>\n",
       "      <td>...</td>\n",
       "      <td>55433.0</td>\n",
       "      <td>49081.0</td>\n",
       "      <td>37410.0</td>\n",
       "      <td>555625.588825</td>\n",
       "      <td>115705.842048</td>\n",
       "      <td>673477.0</td>\n",
       "      <td>215.000000</td>\n",
       "      <td>265.000000</td>\n",
       "      <td>209.000000</td>\n",
       "      <td>260.0</td>\n",
       "    </tr>\n",
       "    <tr>\n",
       "      <th>3</th>\n",
       "      <td>1992_ARKANSAS</td>\n",
       "      <td>ARKANSAS</td>\n",
       "      <td>1992</td>\n",
       "      <td>798454.929179</td>\n",
       "      <td>1711959.0</td>\n",
       "      <td>178571.0</td>\n",
       "      <td>958785.0</td>\n",
       "      <td>574603.0</td>\n",
       "      <td>1743022.0</td>\n",
       "      <td>964323.0</td>\n",
       "      <td>...</td>\n",
       "      <td>34632.0</td>\n",
       "      <td>36011.0</td>\n",
       "      <td>27651.0</td>\n",
       "      <td>555625.588825</td>\n",
       "      <td>115705.842048</td>\n",
       "      <td>441490.0</td>\n",
       "      <td>210.000000</td>\n",
       "      <td>256.000000</td>\n",
       "      <td>211.000000</td>\n",
       "      <td>260.0</td>\n",
       "    </tr>\n",
       "    <tr>\n",
       "      <th>4</th>\n",
       "      <td>1992_CALIFORNIA</td>\n",
       "      <td>CALIFORNIA</td>\n",
       "      <td>1992</td>\n",
       "      <td>798454.929179</td>\n",
       "      <td>26260025.0</td>\n",
       "      <td>2072470.0</td>\n",
       "      <td>16546514.0</td>\n",
       "      <td>7641041.0</td>\n",
       "      <td>27138832.0</td>\n",
       "      <td>14358922.0</td>\n",
       "      <td>...</td>\n",
       "      <td>418418.0</td>\n",
       "      <td>363296.0</td>\n",
       "      <td>270675.0</td>\n",
       "      <td>555625.588825</td>\n",
       "      <td>115705.842048</td>\n",
       "      <td>5254844.0</td>\n",
       "      <td>208.000000</td>\n",
       "      <td>261.000000</td>\n",
       "      <td>202.000000</td>\n",
       "      <td>260.0</td>\n",
       "    </tr>\n",
       "  </tbody>\n",
       "</table>\n",
       "<p>5 rows × 25 columns</p>\n",
       "</div>"
      ],
      "text/plain": [
       "       PRIMARY_KEY       STATE  YEAR         ENROLL  TOTAL_REVENUE  \\\n",
       "0     1992_ALABAMA     ALABAMA  1992  798454.929179      2678885.0   \n",
       "1      1992_ALASKA      ALASKA  1992  798454.929179      1049591.0   \n",
       "2     1992_ARIZONA     ARIZONA  1992  798454.929179      3258079.0   \n",
       "3    1992_ARKANSAS    ARKANSAS  1992  798454.929179      1711959.0   \n",
       "4  1992_CALIFORNIA  CALIFORNIA  1992  798454.929179     26260025.0   \n",
       "\n",
       "   FEDERAL_REVENUE  STATE_REVENUE  LOCAL_REVENUE  TOTAL_EXPENDITURE  \\\n",
       "0         304177.0      1659028.0       715680.0          2653798.0   \n",
       "1         106780.0       720711.0       222100.0           972488.0   \n",
       "2         297888.0      1369815.0      1590376.0          3401580.0   \n",
       "3         178571.0       958785.0       574603.0          1743022.0   \n",
       "4        2072470.0     16546514.0      7641041.0         27138832.0   \n",
       "\n",
       "   INSTRUCTION_EXPENDITURE  ...  GRADES_4_G  GRADES_8_G  GRADES_12_G  \\\n",
       "0                1481703.0  ...     57948.0     58025.0      41167.0   \n",
       "1                 498362.0  ...      9748.0      8789.0       6714.0   \n",
       "2                1435908.0  ...     55433.0     49081.0      37410.0   \n",
       "3                 964323.0  ...     34632.0     36011.0      27651.0   \n",
       "4               14358922.0  ...    418418.0    363296.0     270675.0   \n",
       "\n",
       "    GRADES_1_8_G  GRADES_9_12_G  GRADES_ALL_G  AVG_MATH_4_SCORE  \\\n",
       "0  555625.588825  115705.842048      731634.0        208.000000   \n",
       "1  555625.588825  115705.842048      122487.0        218.418605   \n",
       "2  555625.588825  115705.842048      673477.0        215.000000   \n",
       "3  555625.588825  115705.842048      441490.0        210.000000   \n",
       "4  555625.588825  115705.842048     5254844.0        208.000000   \n",
       "\n",
       "   AVG_MATH_8_SCORE  AVG_READING_4_SCORE  AVG_READING_8_SCORE  \n",
       "0        252.000000           207.000000                260.0  \n",
       "1        266.325581           215.372093                260.0  \n",
       "2        265.000000           209.000000                260.0  \n",
       "3        256.000000           211.000000                260.0  \n",
       "4        261.000000           202.000000                260.0  \n",
       "\n",
       "[5 rows x 25 columns]"
      ]
     },
     "execution_count": 17,
     "metadata": {},
     "output_type": "execute_result"
    }
   ],
   "source": [
    "df.head()"
   ]
  },
  {
   "cell_type": "markdown",
   "metadata": {},
   "source": [
    "**(1)** Create a variable that contains the weighted average of the grades in the dataset. The number of students in the fourth grade is different from that of the eighth grade. So you will need a weighted average!"
   ]
  },
  {
   "cell_type": "code",
   "execution_count": 23,
   "metadata": {},
   "outputs": [],
   "source": [
    "df[\"weighted average\"] = (df[\"GRADES_8_G\"]*(df[\"AVG_MATH_8_SCORE\"]+df[\"AVG_READING_8_SCORE\"])+ df[\"GRADES_4_G\"]*(df[\"AVG_MATH_4_SCORE\"]+df[\"AVG_READING_4_SCORE\"]))/(df[\"GRADES_4_G\"]+df[\"GRADES_8_G\"])"
   ]
  },
  {
   "cell_type": "code",
   "execution_count": 78,
   "metadata": {},
   "outputs": [
    {
     "data": {
      "text/plain": [
       "0       463.532201\n",
       "1       477.664523\n",
       "2       471.430784\n",
       "3       469.427233\n",
       "4       461.586457\n",
       "           ...    \n",
       "1710    509.554393\n",
       "1711    505.474412\n",
       "1712    485.520116\n",
       "1713    508.462987\n",
       "1714    511.554393\n",
       "Name: weighted average, Length: 1715, dtype: float64"
      ]
     },
     "execution_count": 78,
     "metadata": {},
     "output_type": "execute_result"
    }
   ],
   "source": [
    "df[\"weighted average\"]"
   ]
  },
  {
   "cell_type": "markdown",
   "metadata": {},
   "source": [
    "**(2)** What is the correlation between the variable you just created and the types of expenditures? Which expenditure item has more correlation than others?"
   ]
  },
  {
   "cell_type": "code",
   "execution_count": 35,
   "metadata": {},
   "outputs": [
    {
     "data": {
      "text/plain": [
       "YEAR                            0.488562\n",
       "LOCAL_REVENUE                   0.167914\n",
       "SUPPORT_SERVICES_EXPENDITURE    0.165798\n",
       "TOTAL_REVENUE                   0.155918\n",
       "INSTRUCTION_EXPENDITURE         0.153773\n",
       "TOTAL_EXPENDITURE               0.150782\n",
       "FEDERAL_REVENUE                 0.150214\n",
       "STATE_REVENUE                   0.133869\n",
       "OTHER_EXPENDITURE               0.125356\n",
       "CAPITAL_OUTLAY_EXPENDITURE      0.078447\n",
       "ENROLL                          0.024720\n",
       "Name: weighted average, dtype: float64"
      ]
     },
     "execution_count": 35,
     "metadata": {},
     "output_type": "execute_result"
    }
   ],
   "source": [
    "df.corr()[\"weighted average\"].head(11).sort_values(ascending=False)"
   ]
  },
  {
   "cell_type": "markdown",
   "metadata": {},
   "source": [
    "**local revenue has highest correlation with weighted average**"
   ]
  },
  {
   "cell_type": "code",
   "execution_count": 53,
   "metadata": {},
   "outputs": [
    {
     "data": {
      "text/html": [
       "<div>\n",
       "<style scoped>\n",
       "    .dataframe tbody tr th:only-of-type {\n",
       "        vertical-align: middle;\n",
       "    }\n",
       "\n",
       "    .dataframe tbody tr th {\n",
       "        vertical-align: top;\n",
       "    }\n",
       "\n",
       "    .dataframe thead th {\n",
       "        text-align: right;\n",
       "    }\n",
       "</style>\n",
       "<table border=\"1\" class=\"dataframe\">\n",
       "  <thead>\n",
       "    <tr style=\"text-align: right;\">\n",
       "      <th></th>\n",
       "      <th>TOTAL_EXPENDITURE</th>\n",
       "      <th>INSTRUCTION_EXPENDITURE</th>\n",
       "      <th>SUPPORT_SERVICES_EXPENDITURE</th>\n",
       "      <th>OTHER_EXPENDITURE</th>\n",
       "    </tr>\n",
       "  </thead>\n",
       "  <tbody>\n",
       "    <tr>\n",
       "      <th>0</th>\n",
       "      <td>2.653798e+06</td>\n",
       "      <td>1.481703e+06</td>\n",
       "      <td>7.350360e+05</td>\n",
       "      <td>262049.247156</td>\n",
       "    </tr>\n",
       "    <tr>\n",
       "      <th>1</th>\n",
       "      <td>9.724880e+05</td>\n",
       "      <td>4.983620e+05</td>\n",
       "      <td>3.509020e+05</td>\n",
       "      <td>262049.247156</td>\n",
       "    </tr>\n",
       "    <tr>\n",
       "      <th>2</th>\n",
       "      <td>3.401580e+06</td>\n",
       "      <td>1.435908e+06</td>\n",
       "      <td>1.007732e+06</td>\n",
       "      <td>262049.247156</td>\n",
       "    </tr>\n",
       "    <tr>\n",
       "      <th>3</th>\n",
       "      <td>1.743022e+06</td>\n",
       "      <td>9.643230e+05</td>\n",
       "      <td>4.834880e+05</td>\n",
       "      <td>262049.247156</td>\n",
       "    </tr>\n",
       "    <tr>\n",
       "      <th>4</th>\n",
       "      <td>2.713883e+07</td>\n",
       "      <td>1.435892e+07</td>\n",
       "      <td>8.520926e+06</td>\n",
       "      <td>262049.247156</td>\n",
       "    </tr>\n",
       "    <tr>\n",
       "      <th>...</th>\n",
       "      <td>...</td>\n",
       "      <td>...</td>\n",
       "      <td>...</td>\n",
       "      <td>...</td>\n",
       "    </tr>\n",
       "    <tr>\n",
       "      <th>1710</th>\n",
       "      <td>1.276276e+07</td>\n",
       "      <td>6.750863e+06</td>\n",
       "      <td>3.811953e+06</td>\n",
       "      <td>568480.588235</td>\n",
       "    </tr>\n",
       "    <tr>\n",
       "      <th>1711</th>\n",
       "      <td>1.276276e+07</td>\n",
       "      <td>6.750863e+06</td>\n",
       "      <td>3.811953e+06</td>\n",
       "      <td>568480.588235</td>\n",
       "    </tr>\n",
       "    <tr>\n",
       "      <th>1712</th>\n",
       "      <td>1.276276e+07</td>\n",
       "      <td>6.750863e+06</td>\n",
       "      <td>3.811953e+06</td>\n",
       "      <td>568480.588235</td>\n",
       "    </tr>\n",
       "    <tr>\n",
       "      <th>1713</th>\n",
       "      <td>1.276276e+07</td>\n",
       "      <td>6.750863e+06</td>\n",
       "      <td>3.811953e+06</td>\n",
       "      <td>568480.588235</td>\n",
       "    </tr>\n",
       "    <tr>\n",
       "      <th>1714</th>\n",
       "      <td>1.276276e+07</td>\n",
       "      <td>6.750863e+06</td>\n",
       "      <td>3.811953e+06</td>\n",
       "      <td>568480.588235</td>\n",
       "    </tr>\n",
       "  </tbody>\n",
       "</table>\n",
       "<p>1715 rows × 4 columns</p>\n",
       "</div>"
      ],
      "text/plain": [
       "      TOTAL_EXPENDITURE  INSTRUCTION_EXPENDITURE  \\\n",
       "0          2.653798e+06             1.481703e+06   \n",
       "1          9.724880e+05             4.983620e+05   \n",
       "2          3.401580e+06             1.435908e+06   \n",
       "3          1.743022e+06             9.643230e+05   \n",
       "4          2.713883e+07             1.435892e+07   \n",
       "...                 ...                      ...   \n",
       "1710       1.276276e+07             6.750863e+06   \n",
       "1711       1.276276e+07             6.750863e+06   \n",
       "1712       1.276276e+07             6.750863e+06   \n",
       "1713       1.276276e+07             6.750863e+06   \n",
       "1714       1.276276e+07             6.750863e+06   \n",
       "\n",
       "      SUPPORT_SERVICES_EXPENDITURE  OTHER_EXPENDITURE  \n",
       "0                     7.350360e+05      262049.247156  \n",
       "1                     3.509020e+05      262049.247156  \n",
       "2                     1.007732e+06      262049.247156  \n",
       "3                     4.834880e+05      262049.247156  \n",
       "4                     8.520926e+06      262049.247156  \n",
       "...                            ...                ...  \n",
       "1710                  3.811953e+06      568480.588235  \n",
       "1711                  3.811953e+06      568480.588235  \n",
       "1712                  3.811953e+06      568480.588235  \n",
       "1713                  3.811953e+06      568480.588235  \n",
       "1714                  3.811953e+06      568480.588235  \n",
       "\n",
       "[1715 rows x 4 columns]"
      ]
     },
     "execution_count": 53,
     "metadata": {},
     "output_type": "execute_result"
    }
   ],
   "source": [
    "df.iloc[:,8:12]"
   ]
  },
  {
   "cell_type": "markdown",
   "metadata": {},
   "source": [
    "**(3)** Now apply the Principal Components Analysis (PCA) for the four expenditure items! How much of the total variance can be explained by the first component?"
   ]
  },
  {
   "cell_type": "code",
   "execution_count": 54,
   "metadata": {},
   "outputs": [],
   "source": [
    "df_expend = df.iloc[:,8:12]"
   ]
  },
  {
   "cell_type": "code",
   "execution_count": 57,
   "metadata": {},
   "outputs": [],
   "source": [
    "X = StandardScaler().fit_transform(df_expend)\n",
    "pca = PCA(n_components=4)\n",
    "principalComponents=pca.fit_transform(X)"
   ]
  },
  {
   "cell_type": "code",
   "execution_count": 60,
   "metadata": {},
   "outputs": [
    {
     "data": {
      "text/plain": [
       "97.17"
      ]
     },
     "execution_count": 60,
     "metadata": {},
     "output_type": "execute_result"
    }
   ],
   "source": [
    "exp_var= pca.explained_variance_ratio_\n",
    "cumsum_var=np.cumsum(np.round(pca.explained_variance_ratio_, decimals=4)*100)\n",
    "cumsum_var[0]"
   ]
  },
  {
   "cell_type": "markdown",
   "metadata": {},
   "source": [
    "**(4)** What is the correlation between the GPA you created and the first principal component?"
   ]
  },
  {
   "cell_type": "code",
   "execution_count": 70,
   "metadata": {},
   "outputs": [],
   "source": [
    "df[\"pc1\"] = principalComponents[:,0]"
   ]
  },
  {
   "cell_type": "code",
   "execution_count": 77,
   "metadata": {},
   "outputs": [
    {
     "data": {
      "text/plain": [
       "0.1512379862969346"
      ]
     },
     "execution_count": 77,
     "metadata": {},
     "output_type": "execute_result"
    }
   ],
   "source": [
    "df[\"weighted average\"].corr(df[\"pc1\"])"
   ]
  },
  {
   "cell_type": "markdown",
   "metadata": {},
   "source": [
    "**(5)** When you need to choose the most appropriate variables for your model, would you prefer the first basic variables instead of the expenditure items? Why?"
   ]
  },
  {
   "cell_type": "markdown",
   "metadata": {},
   "source": [
    "**yes instade of four different element i can take just one feature with PCA. it will reduce the complexity of our model. i can explain the 97 percent of these expenditures with just one variable.**\n"
   ]
  },
  {
   "cell_type": "code",
   "execution_count": null,
   "metadata": {},
   "outputs": [],
   "source": []
  }
 ],
 "metadata": {
  "kernelspec": {
   "display_name": "Python 3",
   "language": "python",
   "name": "python3"
  },
  "language_info": {
   "codemirror_mode": {
    "name": "ipython",
    "version": 3
   },
   "file_extension": ".py",
   "mimetype": "text/x-python",
   "name": "python",
   "nbconvert_exporter": "python",
   "pygments_lexer": "ipython3",
   "version": "3.8.5"
  }
 },
 "nbformat": 4,
 "nbformat_minor": 4
}
