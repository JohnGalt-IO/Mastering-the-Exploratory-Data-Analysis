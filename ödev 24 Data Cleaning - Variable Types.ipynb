{
 "cells": [
  {
   "cell_type": "markdown",
   "metadata": {},
   "source": [
    "# <font color=blue>Assignments for \"Data Cleaning - Variable Types\"</font>"
   ]
  },
  {
   "cell_type": "markdown",
   "metadata": {},
   "source": [
    "**(1)** Determine the types of the below-given variables:\n",
    "- Age\n",
    "- Salary\n",
    "- Income\n",
    "- Customer type\n",
    "- Stock price "
   ]
  },
  {
   "cell_type": "markdown",
   "metadata": {},
   "source": [
    "- Age: quantitative discrete\n",
    "- Salary:quantitative discrete or continous \n",
    "- Income:quantitative discrete  or continous\n",
    "- Customer type:qualitative ordinal\n",
    "- Stock price:quantitative continous "
   ]
  },
  {
   "cell_type": "markdown",
   "metadata": {},
   "source": [
    "**(2)** Using the `movie` data, we have studied in this lesson. Complete the following tasks:\n",
    "    * Select a variable from the `movie` dataset and discuss the variable type of this variable\n",
    "    * Categorize a variable of your choice and assign a name to it\n",
    "    * Count the number of rows for each category"
   ]
  },
  {
   "cell_type": "markdown",
   "metadata": {},
   "source": [
    "**genres:** Film categorization like ‘Animation’, ‘Comedy’, ‘Romance’, ‘Horror’, ‘Sci-Fi’, ‘Action’, ‘Family’\\\n",
    " its an categorical variable which is qualitative ordinal. \n",
    "\n"
   ]
  },
  {
   "cell_type": "code",
   "execution_count": 43,
   "metadata": {},
   "outputs": [
    {
     "data": {
      "text/plain": [
       "genres\n",
       "Drama                                                              235\n",
       "Comedy                                                             208\n",
       "Comedy|Drama                                                       190\n",
       "Comedy|Drama|Romance                                               187\n",
       "Comedy|Romance                                                     158\n",
       "                                                                  ... \n",
       "Adventure|Horror|Mystery                                             1\n",
       "Thriller|Western                                                     1\n",
       "Adventure|Fantasy|Thriller                                           1\n",
       "Action|Adventure|Animation|Comedy|Drama|Family|Fantasy|Thriller      0\n",
       "Action|Adventure|Crime|Drama|Sci-Fi|Thriller                         0\n",
       "Name: color, Length: 914, dtype: int64"
      ]
     },
     "execution_count": 43,
     "metadata": {},
     "output_type": "execute_result"
    }
   ],
   "source": [
    "import pandas as pd\n",
    "import numpy as np\n",
    "movie = pd.read_csv(\"https://djl-lms-assets.s3.eu-central-1.amazonaws.com/datasets/movie.csv\")\n",
    "genres = movie[\"genres\"].unique()\n",
    "movie.groupby(\"genres\").count().iloc[:,0].sort_values(ascending=False)"
   ]
  },
  {
   "cell_type": "markdown",
   "metadata": {},
   "source": [
    "**(3)** Is it possible to convert categorical variable into numerical one? If so, how can you make that?"
   ]
  },
  {
   "cell_type": "markdown",
   "metadata": {},
   "source": [
    "**with using map function we can convert the categorical variable into numerical ones.**\n"
   ]
  },
  {
   "cell_type": "markdown",
   "metadata": {},
   "source": [
    "**(4)** While continuous data is generally preferred over discrete data, please indicate circumstances where discrete is the preferred data type although continuous data is available for the same characteristic."
   ]
  },
  {
   "cell_type": "markdown",
   "metadata": {},
   "source": [
    "**discrete data can be plotted easily. And also discrete data is can be verified and calculated due to remains constant in time interval.**"
   ]
  },
  {
   "cell_type": "code",
   "execution_count": null,
   "metadata": {},
   "outputs": [],
   "source": []
  }
 ],
 "metadata": {
  "kernelspec": {
   "display_name": "Python 3",
   "language": "python",
   "name": "python3"
  },
  "language_info": {
   "codemirror_mode": {
    "name": "ipython",
    "version": 3
   },
   "file_extension": ".py",
   "mimetype": "text/x-python",
   "name": "python",
   "nbconvert_exporter": "python",
   "pygments_lexer": "ipython3",
   "version": "3.8.5"
  }
 },
 "nbformat": 4,
 "nbformat_minor": 4
}
